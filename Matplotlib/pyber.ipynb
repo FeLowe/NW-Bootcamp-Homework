{
 "cells": [
  {
   "cell_type": "code",
   "execution_count": 1,
   "metadata": {
    "scrolled": true
   },
   "outputs": [
    {
     "data": {
      "text/html": [
       "<div>\n",
       "<style scoped>\n",
       "    .dataframe tbody tr th:only-of-type {\n",
       "        vertical-align: middle;\n",
       "    }\n",
       "\n",
       "    .dataframe tbody tr th {\n",
       "        vertical-align: top;\n",
       "    }\n",
       "\n",
       "    .dataframe thead th {\n",
       "        text-align: right;\n",
       "    }\n",
       "</style>\n",
       "<table border=\"1\" class=\"dataframe\">\n",
       "  <thead>\n",
       "    <tr style=\"text-align: right;\">\n",
       "      <th></th>\n",
       "      <th>city</th>\n",
       "      <th>driver_count</th>\n",
       "      <th>type</th>\n",
       "      <th>date</th>\n",
       "      <th>fare</th>\n",
       "      <th>ride_id</th>\n",
       "    </tr>\n",
       "  </thead>\n",
       "  <tbody>\n",
       "    <tr>\n",
       "      <th>0</th>\n",
       "      <td>Richardfort</td>\n",
       "      <td>38</td>\n",
       "      <td>Urban</td>\n",
       "      <td>2018-02-24 08:40:38</td>\n",
       "      <td>13.93</td>\n",
       "      <td>5628545007794</td>\n",
       "    </tr>\n",
       "    <tr>\n",
       "      <th>1</th>\n",
       "      <td>Richardfort</td>\n",
       "      <td>38</td>\n",
       "      <td>Urban</td>\n",
       "      <td>2018-02-13 12:46:07</td>\n",
       "      <td>14.00</td>\n",
       "      <td>910050116494</td>\n",
       "    </tr>\n",
       "    <tr>\n",
       "      <th>2</th>\n",
       "      <td>Richardfort</td>\n",
       "      <td>38</td>\n",
       "      <td>Urban</td>\n",
       "      <td>2018-02-16 13:52:19</td>\n",
       "      <td>17.92</td>\n",
       "      <td>820639054416</td>\n",
       "    </tr>\n",
       "    <tr>\n",
       "      <th>3</th>\n",
       "      <td>Richardfort</td>\n",
       "      <td>38</td>\n",
       "      <td>Urban</td>\n",
       "      <td>2018-02-01 20:18:28</td>\n",
       "      <td>10.26</td>\n",
       "      <td>9554935945413</td>\n",
       "    </tr>\n",
       "    <tr>\n",
       "      <th>4</th>\n",
       "      <td>Richardfort</td>\n",
       "      <td>38</td>\n",
       "      <td>Urban</td>\n",
       "      <td>2018-04-17 02:26:37</td>\n",
       "      <td>23.00</td>\n",
       "      <td>720020655850</td>\n",
       "    </tr>\n",
       "  </tbody>\n",
       "</table>\n",
       "</div>"
      ],
      "text/plain": [
       "          city  driver_count   type                 date   fare        ride_id\n",
       "0  Richardfort            38  Urban  2018-02-24 08:40:38  13.93  5628545007794\n",
       "1  Richardfort            38  Urban  2018-02-13 12:46:07  14.00   910050116494\n",
       "2  Richardfort            38  Urban  2018-02-16 13:52:19  17.92   820639054416\n",
       "3  Richardfort            38  Urban  2018-02-01 20:18:28  10.26  9554935945413\n",
       "4  Richardfort            38  Urban  2018-04-17 02:26:37  23.00   720020655850"
      ]
     },
     "execution_count": 1,
     "metadata": {},
     "output_type": "execute_result"
    }
   ],
   "source": [
    "%matplotlib inline\n",
    "# Dependencies and Setup\n",
    "import matplotlib.pyplot as plt\n",
    "import pandas as pd\n",
    "import numpy as np\n",
    "\n",
    "# File to Load (Remember to change these)\n",
    "city_data_to_load = \"city_data.csv\"\n",
    "ride_data_to_load = \"ride_data.csv\"\n",
    "\n",
    "# Read the City and Ride Data\n",
    "city_data = pd.read_csv(city_data_to_load).dropna()\n",
    "ride_data = pd.read_csv(ride_data_to_load).dropna()\n",
    "\n",
    "# Combine the data into a single dataset\n",
    "combined_data = pd.merge(city_data, ride_data, how='outer', on=\"city\")\n",
    "#combined_data = combined_data.set_index(\"city\")\n",
    "\n",
    "# Display the data table for preview\n",
    "combined_data.head()\n"
   ]
  },
  {
   "cell_type": "code",
   "execution_count": 2,
   "metadata": {},
   "outputs": [
    {
     "data": {
      "text/plain": [
       "Index(['city', 'driver_count', 'type', 'date', 'fare', 'ride_id'], dtype='object')"
      ]
     },
     "execution_count": 2,
     "metadata": {},
     "output_type": "execute_result"
    }
   ],
   "source": [
    "combined_data.columns"
   ]
  },
  {
   "cell_type": "code",
   "execution_count": 7,
   "metadata": {},
   "outputs": [],
   "source": [
    "# Obtain the x and y coordinates for each of the three city types\n",
    "urban_cities = combined_data[combined_data[\"type\"] == \"Urban\"]\n",
    "suburban_cities = combined_data[combined_data[\"type\"] == \"Suburban\"]\n",
    "rural_cities = combined_data[combined_data[\"type\"] == \"Rural\"]\n",
    "\n",
    "urban_ride_count = urban_cities.groupby([\"city\"]).count()[\"ride_id\"]\n",
    "urban_avg_fare = urban_cities.groupby([\"city\"]).mean()[\"fare\"]\n",
    "urban_driver_count = urban_cities.groupby([\"city\"]).mean()[\"driver_count\"]\n",
    "\n",
    "suburban_ride_count = suburban_cities.groupby([\"city\"]).count()[\"ride_id\"]\n",
    "suburban_avg_fare = suburban_cities.groupby([\"city\"]).mean()[\"fare\"]\n",
    "suburban_driver_count = suburban_cities.groupby([\"city\"]).mean()[\"driver_count\"]\n",
    "\n",
    "rural_ride_count = rural_cities.groupby([\"city\"]).count()[\"ride_id\"]\n",
    "rural_avg_fare = rural_cities.groupby([\"city\"]).mean()[\"fare\"]\n",
    "rural_driver_count = rural_cities.groupby([\"city\"]).mean()[\"driver_count\"]\n"
   ]
  },
  {
   "cell_type": "code",
   "execution_count": null,
   "metadata": {},
   "outputs": [],
   "source": []
  },
  {
   "cell_type": "markdown",
   "metadata": {},
   "source": [
    "## Bubble Plot of Ride Sharing Data"
   ]
  },
  {
   "cell_type": "code",
   "execution_count": null,
   "metadata": {},
   "outputs": [],
   "source": [
    "# Obtain the x and y coordinates for each of the three city types\n",
    "\n",
    "# Build the scatter plots for each city types\n",
    "\n",
    "# Incorporate the other graph properties\n",
    "# Create a title, x label, and y label for our chart\n",
    "#plt.title(\"Ice Cream Sales v Temperature\")\n",
    "#plt.xlabel(\"Temperature (Celsius)\")\n",
    "#plt.ylabel(\"Sales (Dollars)\")\n",
    "\n",
    "\n",
    "# Create a legend\n",
    "#plt.legend(loc=\"best\")\n",
    "# Incorporate a text label regarding circle size\n",
    "\n",
    "# Save Figure\n",
    "#plt.savefig(\"../Images/IceCreamSales.png\")"
   ]
  },
  {
   "cell_type": "code",
   "execution_count": null,
   "metadata": {},
   "outputs": [],
   "source": [
    "# Show plot\n",
    "plt.show()"
   ]
  },
  {
   "cell_type": "markdown",
   "metadata": {},
   "source": [
    "## Total Fares by City Type"
   ]
  },
  {
   "cell_type": "code",
   "execution_count": null,
   "metadata": {},
   "outputs": [],
   "source": [
    "# Calculate Type Percents\n",
    "\n",
    "# Build Pie Chart\n",
    "\n",
    "# Save Figure\n"
   ]
  },
  {
   "cell_type": "code",
   "execution_count": null,
   "metadata": {},
   "outputs": [],
   "source": [
    "# Show Figure\n",
    "plt.show()"
   ]
  },
  {
   "cell_type": "markdown",
   "metadata": {},
   "source": [
    "## Total Rides by City Type"
   ]
  },
  {
   "cell_type": "code",
   "execution_count": null,
   "metadata": {},
   "outputs": [],
   "source": [
    "# Calculate Ride Percents\n",
    "\n",
    "# Build Pie Chart\n",
    "\n",
    "# Save Figure\n"
   ]
  },
  {
   "cell_type": "code",
   "execution_count": null,
   "metadata": {},
   "outputs": [],
   "source": [
    "# Show Figure\n",
    "plt.show()"
   ]
  },
  {
   "cell_type": "markdown",
   "metadata": {},
   "source": [
    "## Total Drivers by City Type"
   ]
  },
  {
   "cell_type": "code",
   "execution_count": null,
   "metadata": {},
   "outputs": [],
   "source": [
    "# Calculate Driver Percents\n",
    "\n",
    "# Build Pie Charts\n",
    "\n",
    "# Save Figure\n"
   ]
  },
  {
   "cell_type": "code",
   "execution_count": null,
   "metadata": {
    "scrolled": true
   },
   "outputs": [],
   "source": [
    "# Show Figure\n",
    "plt.show()"
   ]
  },
  {
   "cell_type": "code",
   "execution_count": null,
   "metadata": {},
   "outputs": [],
   "source": []
  }
 ],
 "metadata": {
  "anaconda-cloud": {},
  "kernelspec": {
   "display_name": "Python 3",
   "language": "python",
   "name": "python3"
  },
  "language_info": {
   "codemirror_mode": {
    "name": "ipython",
    "version": 3
   },
   "file_extension": ".py",
   "mimetype": "text/x-python",
   "name": "python",
   "nbconvert_exporter": "python",
   "pygments_lexer": "ipython3",
   "version": "3.6.7"
  }
 },
 "nbformat": 4,
 "nbformat_minor": 2
}
