{
 "cells": [
  {
   "cell_type": "markdown",
   "metadata": {},
   "source": [
    "# WeatherPy\n",
    "----\n",
    "\n",
    "### Analysis\n",
    "* As expected, the weather becomes significantly warmer as one approaches the equator (0 Deg. Latitude). More interestingly, however, is the fact that the southern hemisphere tends to be warmer this time of year than the northern hemisphere. This may be due to the tilt of the earth.\n",
    "* There is no strong relationship between latitude and cloudiness. However, it is interesting to see that a strong band of cities sits at 0, 80, and 100% cloudiness.\n",
    "* There is no strong relationship between latitude and wind speed. However, in northern hemispheres there is a flurry of cities with over 20 mph of wind.\n",
    "\n",
    "---\n",
    "\n",
    "#### Note\n",
    "* Instructions have been included for each segment. You do not have to follow them exactly, but they are included to help you think through the steps."
   ]
  },
  {
   "cell_type": "code",
   "execution_count": 1,
   "metadata": {
    "scrolled": true
   },
   "outputs": [],
   "source": [
    "# Dependencies and Setup\n",
    "import matplotlib.pyplot as plt\n",
    "import pandas as pd\n",
    "import numpy as np\n",
    "import requests\n",
    "import time\n",
    "import openweathermapy as ow\n",
    "from citipy import citipy\n",
    "\n",
    "# Import API key\n",
    "from api_keys import api_key\n",
    "\n",
    "# Incorporated citipy to determine city based on latitude and longitude\n",
    "from citipy import citipy\n",
    "\n",
    "# Output File (CSV)\n",
    "output_data_file = \"output_data/cities.csv\"\n",
    "\n",
    "# Range of latitudes and longitudes\n",
    "lat_range = (-90, 90)\n",
    "lng_range = (-180, 180)"
   ]
  },
  {
   "cell_type": "markdown",
   "metadata": {},
   "source": [
    "## Generate Cities List"
   ]
  },
  {
   "cell_type": "code",
   "execution_count": 40,
   "metadata": {},
   "outputs": [
    {
     "name": "stdout",
     "output_type": "stream",
     "text": [
      "[]\n"
     ]
    },
    {
     "data": {
      "text/plain": [
       "84"
      ]
     },
     "execution_count": 40,
     "metadata": {},
     "output_type": "execute_result"
    }
   ],
   "source": [
    "# List for holding lat_lngs and cities\n",
    "lat_lngs = []\n",
    "print (lat_lngs)\n",
    "cities = []\n",
    "\n",
    "# Create a set of random lat and lng combinations\n",
    "lats = np.random.uniform(low=-90.000, high=90.000, size=100)\n",
    "lngs = np.random.uniform(low=-180.000, high=180.000, size=100)\n",
    "lat_lngs = zip(lats, lngs)\n",
    "\n",
    "# Identify nearest city for each lat, lng combination\n",
    "for lat_lng in lat_lngs:\n",
    "    city = citipy.nearest_city(lat_lng[0], lat_lng[1]).city_name\n",
    "    \n",
    "    # If the city is unique, then add it to a our cities list\n",
    "    if city not in cities:\n",
    "        cities.append(city)\n",
    "\n",
    "# Print the city count to confirm sufficient count\n",
    "len(cities)"
   ]
  },
  {
   "cell_type": "markdown",
   "metadata": {},
   "source": [
    "### Perform API Calls\n",
    "* Perform a weather check on each city using a series of successive API calls.\n",
    "* Include a print log of each city as it'sbeing processed (with the city number and city name).\n"
   ]
  },
  {
   "cell_type": "code",
   "execution_count": 48,
   "metadata": {},
   "outputs": [
    {
     "name": "stdout",
     "output_type": "stream",
     "text": [
      "Beginning Data Retrival\n",
      "Processing Record 0 Set of 1 | mar del plata\n",
      "http://api.openweathermap.org/data/2.5/weather?appid=3567360c8a78f247cb21275118a6ae30&units=metric&q=mar del plata\n",
      "Processing Record 1 Set of 1 | iracoubo\n",
      "http://api.openweathermap.org/data/2.5/weather?appid=3567360c8a78f247cb21275118a6ae30&units=metric&q=iracoubo\n",
      "Processing Record 2 Set of 1 | sangar\n",
      "http://api.openweathermap.org/data/2.5/weather?appid=3567360c8a78f247cb21275118a6ae30&units=metric&q=sangar\n",
      "Processing Record 3 Set of 1 | pandan\n",
      "http://api.openweathermap.org/data/2.5/weather?appid=3567360c8a78f247cb21275118a6ae30&units=metric&q=pandan\n",
      "Processing Record 4 Set of 1 | ushuaia\n",
      "http://api.openweathermap.org/data/2.5/weather?appid=3567360c8a78f247cb21275118a6ae30&units=metric&q=ushuaia\n",
      "Processing Record 5 Set of 1 | punta arenas\n",
      "http://api.openweathermap.org/data/2.5/weather?appid=3567360c8a78f247cb21275118a6ae30&units=metric&q=punta arenas\n",
      "Processing Record 6 Set of 1 | ribeira grande\n",
      "http://api.openweathermap.org/data/2.5/weather?appid=3567360c8a78f247cb21275118a6ae30&units=metric&q=ribeira grande\n",
      "Processing Record 7 Set of 1 | norsup\n",
      "http://api.openweathermap.org/data/2.5/weather?appid=3567360c8a78f247cb21275118a6ae30&units=metric&q=norsup\n",
      "Processing Record 8 Set of 1 | atuona\n",
      "http://api.openweathermap.org/data/2.5/weather?appid=3567360c8a78f247cb21275118a6ae30&units=metric&q=atuona\n",
      "Processing Record 9 Set of 1 | barrow\n",
      "http://api.openweathermap.org/data/2.5/weather?appid=3567360c8a78f247cb21275118a6ae30&units=metric&q=barrow\n",
      "Processing Record 10 Set of 1 | torbay\n",
      "http://api.openweathermap.org/data/2.5/weather?appid=3567360c8a78f247cb21275118a6ae30&units=metric&q=torbay\n",
      "Processing Record 11 Set of 1 | lorengau\n",
      "http://api.openweathermap.org/data/2.5/weather?appid=3567360c8a78f247cb21275118a6ae30&units=metric&q=lorengau\n",
      "Processing Record 12 Set of 1 | camacupa\n",
      "http://api.openweathermap.org/data/2.5/weather?appid=3567360c8a78f247cb21275118a6ae30&units=metric&q=camacupa\n",
      "Processing Record 13 Set of 1 | samusu\n",
      "http://api.openweathermap.org/data/2.5/weather?appid=3567360c8a78f247cb21275118a6ae30&units=metric&q=samusu\n",
      "Processing Record 14 Set of 1 | russell\n",
      "http://api.openweathermap.org/data/2.5/weather?appid=3567360c8a78f247cb21275118a6ae30&units=metric&q=russell\n",
      "Processing Record 15 Set of 1 | qaanaaq\n",
      "http://api.openweathermap.org/data/2.5/weather?appid=3567360c8a78f247cb21275118a6ae30&units=metric&q=qaanaaq\n",
      "Processing Record 16 Set of 1 | upernavik\n",
      "http://api.openweathermap.org/data/2.5/weather?appid=3567360c8a78f247cb21275118a6ae30&units=metric&q=upernavik\n",
      "Processing Record 17 Set of 1 | georgetown\n",
      "http://api.openweathermap.org/data/2.5/weather?appid=3567360c8a78f247cb21275118a6ae30&units=metric&q=georgetown\n",
      "Processing Record 18 Set of 1 | dikson\n",
      "http://api.openweathermap.org/data/2.5/weather?appid=3567360c8a78f247cb21275118a6ae30&units=metric&q=dikson\n",
      "Processing Record 19 Set of 1 | kashin\n",
      "http://api.openweathermap.org/data/2.5/weather?appid=3567360c8a78f247cb21275118a6ae30&units=metric&q=kashin\n",
      "Processing Record 20 Set of 1 | bredasdorp\n",
      "http://api.openweathermap.org/data/2.5/weather?appid=3567360c8a78f247cb21275118a6ae30&units=metric&q=bredasdorp\n",
      "Processing Record 21 Set of 1 | ahipara\n",
      "http://api.openweathermap.org/data/2.5/weather?appid=3567360c8a78f247cb21275118a6ae30&units=metric&q=ahipara\n",
      "Processing Record 22 Set of 1 | acajutla\n",
      "http://api.openweathermap.org/data/2.5/weather?appid=3567360c8a78f247cb21275118a6ae30&units=metric&q=acajutla\n",
      "Processing Record 23 Set of 1 | kuche\n",
      "http://api.openweathermap.org/data/2.5/weather?appid=3567360c8a78f247cb21275118a6ae30&units=metric&q=kuche\n",
      "Processing Record 24 Set of 1 | port elizabeth\n",
      "http://api.openweathermap.org/data/2.5/weather?appid=3567360c8a78f247cb21275118a6ae30&units=metric&q=port elizabeth\n",
      "Processing Record 25 Set of 1 | djibo\n",
      "http://api.openweathermap.org/data/2.5/weather?appid=3567360c8a78f247cb21275118a6ae30&units=metric&q=djibo\n",
      "Processing Record 26 Set of 1 | sao filipe\n",
      "http://api.openweathermap.org/data/2.5/weather?appid=3567360c8a78f247cb21275118a6ae30&units=metric&q=sao filipe\n",
      "Processing Record 27 Set of 1 | phangnga\n",
      "http://api.openweathermap.org/data/2.5/weather?appid=3567360c8a78f247cb21275118a6ae30&units=metric&q=phangnga\n",
      "Processing Record 28 Set of 1 | pavlodar\n",
      "http://api.openweathermap.org/data/2.5/weather?appid=3567360c8a78f247cb21275118a6ae30&units=metric&q=pavlodar\n",
      "Processing Record 29 Set of 1 | kapaa\n",
      "http://api.openweathermap.org/data/2.5/weather?appid=3567360c8a78f247cb21275118a6ae30&units=metric&q=kapaa\n",
      "Processing Record 30 Set of 1 | saint-joseph\n",
      "http://api.openweathermap.org/data/2.5/weather?appid=3567360c8a78f247cb21275118a6ae30&units=metric&q=saint-joseph\n",
      "Processing Record 31 Set of 1 | te anau\n",
      "http://api.openweathermap.org/data/2.5/weather?appid=3567360c8a78f247cb21275118a6ae30&units=metric&q=te anau\n",
      "Processing Record 32 Set of 1 | karratha\n",
      "http://api.openweathermap.org/data/2.5/weather?appid=3567360c8a78f247cb21275118a6ae30&units=metric&q=karratha\n",
      "Processing Record 33 Set of 1 | mkushi\n",
      "http://api.openweathermap.org/data/2.5/weather?appid=3567360c8a78f247cb21275118a6ae30&units=metric&q=mkushi\n",
      "Processing Record 34 Set of 1 | busselton\n",
      "http://api.openweathermap.org/data/2.5/weather?appid=3567360c8a78f247cb21275118a6ae30&units=metric&q=busselton\n",
      "Processing Record 35 Set of 1 | bluff\n",
      "http://api.openweathermap.org/data/2.5/weather?appid=3567360c8a78f247cb21275118a6ae30&units=metric&q=bluff\n",
      "Processing Record 36 Set of 1 | rikitea\n",
      "http://api.openweathermap.org/data/2.5/weather?appid=3567360c8a78f247cb21275118a6ae30&units=metric&q=rikitea\n",
      "Processing Record 37 Set of 1 | faanui\n",
      "http://api.openweathermap.org/data/2.5/weather?appid=3567360c8a78f247cb21275118a6ae30&units=metric&q=faanui\n",
      "Processing Record 38 Set of 1 | zhigansk\n",
      "http://api.openweathermap.org/data/2.5/weather?appid=3567360c8a78f247cb21275118a6ae30&units=metric&q=zhigansk\n",
      "Processing Record 39 Set of 1 | tarlisua\n",
      "http://api.openweathermap.org/data/2.5/weather?appid=3567360c8a78f247cb21275118a6ae30&units=metric&q=tarlisua\n",
      "Processing Record 40 Set of 1 | svetlogorsk\n",
      "http://api.openweathermap.org/data/2.5/weather?appid=3567360c8a78f247cb21275118a6ae30&units=metric&q=svetlogorsk\n",
      "Processing Record 41 Set of 1 | kawalu\n",
      "http://api.openweathermap.org/data/2.5/weather?appid=3567360c8a78f247cb21275118a6ae30&units=metric&q=kawalu\n",
      "Processing Record 42 Set of 1 | imbituba\n",
      "http://api.openweathermap.org/data/2.5/weather?appid=3567360c8a78f247cb21275118a6ae30&units=metric&q=imbituba\n",
      "Processing Record 43 Set of 1 | chuy\n",
      "http://api.openweathermap.org/data/2.5/weather?appid=3567360c8a78f247cb21275118a6ae30&units=metric&q=chuy\n",
      "Processing Record 44 Set of 1 | norman wells\n",
      "http://api.openweathermap.org/data/2.5/weather?appid=3567360c8a78f247cb21275118a6ae30&units=metric&q=norman wells\n",
      "Processing Record 45 Set of 1 | diamond harbour\n",
      "http://api.openweathermap.org/data/2.5/weather?appid=3567360c8a78f247cb21275118a6ae30&units=metric&q=diamond harbour\n",
      "Processing Record 46 Set of 1 | taolanaro\n",
      "http://api.openweathermap.org/data/2.5/weather?appid=3567360c8a78f247cb21275118a6ae30&units=metric&q=taolanaro\n",
      "Processing Record 47 Set of 1 | paamiut\n",
      "http://api.openweathermap.org/data/2.5/weather?appid=3567360c8a78f247cb21275118a6ae30&units=metric&q=paamiut\n",
      "Processing Record 48 Set of 1 | port alfred\n",
      "http://api.openweathermap.org/data/2.5/weather?appid=3567360c8a78f247cb21275118a6ae30&units=metric&q=port alfred\n",
      "Processing Record 49 Set of 1 | ponta do sol\n",
      "http://api.openweathermap.org/data/2.5/weather?appid=3567360c8a78f247cb21275118a6ae30&units=metric&q=ponta do sol\n",
      "Processing Record 50 Set of 1 | sur\n",
      "http://api.openweathermap.org/data/2.5/weather?appid=3567360c8a78f247cb21275118a6ae30&units=metric&q=sur\n",
      "Processing Record 0 Set of 2 | oksfjord\n",
      "http://api.openweathermap.org/data/2.5/weather?appid=3567360c8a78f247cb21275118a6ae30&units=metric&q=oksfjord\n",
      "Processing Record 1 Set of 2 | angoche\n",
      "http://api.openweathermap.org/data/2.5/weather?appid=3567360c8a78f247cb21275118a6ae30&units=metric&q=angoche\n",
      "Processing Record 2 Set of 2 | cape town\n",
      "http://api.openweathermap.org/data/2.5/weather?appid=3567360c8a78f247cb21275118a6ae30&units=metric&q=cape town\n",
      "Processing Record 3 Set of 2 | bairiki\n",
      "http://api.openweathermap.org/data/2.5/weather?appid=3567360c8a78f247cb21275118a6ae30&units=metric&q=bairiki\n",
      "Processing Record 4 Set of 2 | jamestown\n",
      "http://api.openweathermap.org/data/2.5/weather?appid=3567360c8a78f247cb21275118a6ae30&units=metric&q=jamestown\n",
      "Processing Record 5 Set of 2 | albany\n",
      "http://api.openweathermap.org/data/2.5/weather?appid=3567360c8a78f247cb21275118a6ae30&units=metric&q=albany\n"
     ]
    },
    {
     "name": "stdout",
     "output_type": "stream",
     "text": [
      "Processing Record 6 Set of 2 | new norfolk\n",
      "http://api.openweathermap.org/data/2.5/weather?appid=3567360c8a78f247cb21275118a6ae30&units=metric&q=new norfolk\n",
      "Processing Record 7 Set of 2 | carnarvon\n",
      "http://api.openweathermap.org/data/2.5/weather?appid=3567360c8a78f247cb21275118a6ae30&units=metric&q=carnarvon\n",
      "Processing Record 8 Set of 2 | leningradskiy\n",
      "http://api.openweathermap.org/data/2.5/weather?appid=3567360c8a78f247cb21275118a6ae30&units=metric&q=leningradskiy\n",
      "Processing Record 9 Set of 2 | airai\n",
      "http://api.openweathermap.org/data/2.5/weather?appid=3567360c8a78f247cb21275118a6ae30&units=metric&q=airai\n",
      "Processing Record 10 Set of 2 | viligili\n",
      "http://api.openweathermap.org/data/2.5/weather?appid=3567360c8a78f247cb21275118a6ae30&units=metric&q=viligili\n",
      "Processing Record 11 Set of 2 | bandarbeyla\n",
      "http://api.openweathermap.org/data/2.5/weather?appid=3567360c8a78f247cb21275118a6ae30&units=metric&q=bandarbeyla\n",
      "Processing Record 12 Set of 2 | luderitz\n",
      "http://api.openweathermap.org/data/2.5/weather?appid=3567360c8a78f247cb21275118a6ae30&units=metric&q=luderitz\n",
      "Processing Record 13 Set of 2 | maarianhamina\n",
      "http://api.openweathermap.org/data/2.5/weather?appid=3567360c8a78f247cb21275118a6ae30&units=metric&q=maarianhamina\n",
      "Processing Record 14 Set of 2 | attawapiskat\n",
      "http://api.openweathermap.org/data/2.5/weather?appid=3567360c8a78f247cb21275118a6ae30&units=metric&q=attawapiskat\n",
      "Processing Record 15 Set of 2 | akyab\n",
      "http://api.openweathermap.org/data/2.5/weather?appid=3567360c8a78f247cb21275118a6ae30&units=metric&q=akyab\n",
      "Processing Record 16 Set of 2 | camaqua\n",
      "http://api.openweathermap.org/data/2.5/weather?appid=3567360c8a78f247cb21275118a6ae30&units=metric&q=camaqua\n",
      "Processing Record 17 Set of 2 | terney\n",
      "http://api.openweathermap.org/data/2.5/weather?appid=3567360c8a78f247cb21275118a6ae30&units=metric&q=terney\n",
      "Processing Record 18 Set of 2 | itajobi\n",
      "http://api.openweathermap.org/data/2.5/weather?appid=3567360c8a78f247cb21275118a6ae30&units=metric&q=itajobi\n",
      "Processing Record 19 Set of 2 | thompson\n",
      "http://api.openweathermap.org/data/2.5/weather?appid=3567360c8a78f247cb21275118a6ae30&units=metric&q=thompson\n",
      "Processing Record 20 Set of 2 | pisco\n",
      "http://api.openweathermap.org/data/2.5/weather?appid=3567360c8a78f247cb21275118a6ae30&units=metric&q=pisco\n",
      "Processing Record 21 Set of 2 | dakoro\n",
      "http://api.openweathermap.org/data/2.5/weather?appid=3567360c8a78f247cb21275118a6ae30&units=metric&q=dakoro\n",
      "Processing Record 22 Set of 2 | kuala kedah\n",
      "http://api.openweathermap.org/data/2.5/weather?appid=3567360c8a78f247cb21275118a6ae30&units=metric&q=kuala kedah\n",
      "Processing Record 23 Set of 2 | saleaula\n",
      "http://api.openweathermap.org/data/2.5/weather?appid=3567360c8a78f247cb21275118a6ae30&units=metric&q=saleaula\n",
      "Processing Record 24 Set of 2 | nanortalik\n",
      "http://api.openweathermap.org/data/2.5/weather?appid=3567360c8a78f247cb21275118a6ae30&units=metric&q=nanortalik\n",
      "Processing Record 25 Set of 2 | kruisfontein\n",
      "http://api.openweathermap.org/data/2.5/weather?appid=3567360c8a78f247cb21275118a6ae30&units=metric&q=kruisfontein\n",
      "Processing Record 26 Set of 2 | himora\n",
      "http://api.openweathermap.org/data/2.5/weather?appid=3567360c8a78f247cb21275118a6ae30&units=metric&q=himora\n",
      "Processing Record 27 Set of 2 | san patricio\n",
      "http://api.openweathermap.org/data/2.5/weather?appid=3567360c8a78f247cb21275118a6ae30&units=metric&q=san patricio\n",
      "Processing Record 28 Set of 2 | ilulissat\n",
      "http://api.openweathermap.org/data/2.5/weather?appid=3567360c8a78f247cb21275118a6ae30&units=metric&q=ilulissat\n",
      "Processing Record 29 Set of 2 | scottsburgh\n",
      "http://api.openweathermap.org/data/2.5/weather?appid=3567360c8a78f247cb21275118a6ae30&units=metric&q=scottsburgh\n",
      "Processing Record 30 Set of 2 | san quintin\n",
      "http://api.openweathermap.org/data/2.5/weather?appid=3567360c8a78f247cb21275118a6ae30&units=metric&q=san quintin\n",
      "Processing Record 31 Set of 2 | huaral\n",
      "http://api.openweathermap.org/data/2.5/weather?appid=3567360c8a78f247cb21275118a6ae30&units=metric&q=huaral\n",
      "Processing Record 32 Set of 2 | san cristobal\n",
      "http://api.openweathermap.org/data/2.5/weather?appid=3567360c8a78f247cb21275118a6ae30&units=metric&q=san cristobal\n"
     ]
    }
   ],
   "source": [
    "url = \"http://api.openweathermap.org/data/2.5/weather?\"\n",
    "units = \"metric\"\n",
    "\n",
    "#query URL\n",
    "query_url = f\"{url}appid={api_key}&units={units}&q=\"\n",
    "\n",
    "# set up lists to hold api reponse\n",
    "api_cities = []\n",
    "latitude = []\n",
    "longitude = []\n",
    "temperature = []\n",
    "humidity = []\n",
    "cloudiness = []\n",
    "wind_speed = []\n",
    "\n",
    "# Loop through the list of cities and perform a request for data on each\n",
    "\n",
    "#Header of print log\n",
    "print (f'Beginning Data Retrival')\n",
    "\n",
    "#Variables to set initial values of record and set of print log\n",
    "record_number = 0\n",
    "set_number = 1\n",
    "\n",
    "#Loop through each city from Cities list\n",
    "for city in cities:\n",
    "  \n",
    "      #increments record and set count up until 50, get out of the loop and start the next set of count\n",
    "    if (record_number > 50):\n",
    "        record_number = 0\n",
    "        set_number = set_number + 1\n",
    " \n",
    "    print(f'Processing Record {record_number} Set of {set_number} | {city}')\n",
    "    record_number = record_number + 1\n",
    "    \n",
    "    city_url = query_url + city\n",
    "    print (city_url) #print each individual URL the API will call and get response from\n",
    "    \n",
    "    response = requests.get(query_url + city).json()\n",
    "       \n",
    "    if response ['cod'] == 200: #checks if response is sucessfull, if other than 200, skip code below\n",
    "            api_cities.append(response['name'])\n",
    "            latitude.append(response['coord']['lat'])\n",
    "            longitude.append(response['coord']['lon'])\n",
    "            temperature.append(response['main']['temp'])\n",
    "            humidity.append(response['main']['humidity'])\n",
    "            cloudiness.append(response['clouds']['all'])\n",
    "            wind_speed.append(response['wind']['speed'])\n",
    "\n",
    "\n"
   ]
  },
  {
   "cell_type": "markdown",
   "metadata": {},
   "source": [
    "### Convert Raw Data to DataFrame\n",
    "* Export the city data into a .csv.\n",
    "* Display the DataFrame"
   ]
  },
  {
   "cell_type": "code",
   "execution_count": 43,
   "metadata": {},
   "outputs": [
    {
     "name": "stdout",
     "output_type": "stream",
     "text": [
      "72\n",
      "72\n",
      "72\n",
      "72\n",
      "72\n",
      "72\n",
      "72\n"
     ]
    }
   ],
   "source": [
    "print (len(api_cities))\n",
    "print (len(latitude))\n",
    "print (len(longitude))\n",
    "print (len(humidity))\n",
    "print (len(temperature))\n",
    "print (len(cloudiness))\n",
    "print (len(wind_speed))"
   ]
  },
  {
   "cell_type": "code",
   "execution_count": 44,
   "metadata": {},
   "outputs": [],
   "source": [
    "weatherpy_df = pd.DataFrame({\"City\": api_cities,\n",
    "                           \"Latitude\": latitude,\n",
    "                           \"Longitude\": longitude,\n",
    "                           \"Humidity\": humidity,\n",
    "                           \"Temperature\": temperature,\n",
    "                           \"Cloudiness\": cloudiness,\n",
    "                           \"Wind Speed\": wind_speed})\n",
    "\n",
    "\n",
    "#Export the city data into a .csv.\n",
    "weatherpy_df.to_csv(\"cities.csv\")"
   ]
  },
  {
   "cell_type": "code",
   "execution_count": 11,
   "metadata": {},
   "outputs": [
    {
     "data": {
      "text/html": [
       "<div>\n",
       "<style scoped>\n",
       "    .dataframe tbody tr th:only-of-type {\n",
       "        vertical-align: middle;\n",
       "    }\n",
       "\n",
       "    .dataframe tbody tr th {\n",
       "        vertical-align: top;\n",
       "    }\n",
       "\n",
       "    .dataframe thead th {\n",
       "        text-align: right;\n",
       "    }\n",
       "</style>\n",
       "<table border=\"1\" class=\"dataframe\">\n",
       "  <thead>\n",
       "    <tr style=\"text-align: right;\">\n",
       "      <th></th>\n",
       "      <th>City</th>\n",
       "      <th>Latitude</th>\n",
       "      <th>Longitude</th>\n",
       "      <th>Humidity</th>\n",
       "      <th>Temperature</th>\n",
       "      <th>Cloudiness</th>\n",
       "      <th>Wind Speed</th>\n",
       "    </tr>\n",
       "  </thead>\n",
       "  <tbody>\n",
       "    <tr>\n",
       "      <th>0</th>\n",
       "      <td>Punta Arenas</td>\n",
       "      <td>-53.16</td>\n",
       "      <td>-70.91</td>\n",
       "      <td>71</td>\n",
       "      <td>10.00</td>\n",
       "      <td>75</td>\n",
       "      <td>8.20</td>\n",
       "    </tr>\n",
       "    <tr>\n",
       "      <th>1</th>\n",
       "      <td>Lompoc</td>\n",
       "      <td>34.64</td>\n",
       "      <td>-120.46</td>\n",
       "      <td>48</td>\n",
       "      <td>17.94</td>\n",
       "      <td>1</td>\n",
       "      <td>7.20</td>\n",
       "    </tr>\n",
       "    <tr>\n",
       "      <th>2</th>\n",
       "      <td>Mataura</td>\n",
       "      <td>-46.19</td>\n",
       "      <td>168.86</td>\n",
       "      <td>95</td>\n",
       "      <td>16.11</td>\n",
       "      <td>0</td>\n",
       "      <td>2.07</td>\n",
       "    </tr>\n",
       "    <tr>\n",
       "      <th>3</th>\n",
       "      <td>Georgetown</td>\n",
       "      <td>6.80</td>\n",
       "      <td>-58.16</td>\n",
       "      <td>88</td>\n",
       "      <td>26.00</td>\n",
       "      <td>20</td>\n",
       "      <td>3.10</td>\n",
       "    </tr>\n",
       "    <tr>\n",
       "      <th>4</th>\n",
       "      <td>Port Alfred</td>\n",
       "      <td>-33.59</td>\n",
       "      <td>26.89</td>\n",
       "      <td>92</td>\n",
       "      <td>20.66</td>\n",
       "      <td>0</td>\n",
       "      <td>5.77</td>\n",
       "    </tr>\n",
       "  </tbody>\n",
       "</table>\n",
       "</div>"
      ],
      "text/plain": [
       "           City  Latitude  Longitude  Humidity  Temperature  Cloudiness  \\\n",
       "0  Punta Arenas    -53.16     -70.91        71        10.00          75   \n",
       "1        Lompoc     34.64    -120.46        48        17.94           1   \n",
       "2       Mataura    -46.19     168.86        95        16.11           0   \n",
       "3    Georgetown      6.80     -58.16        88        26.00          20   \n",
       "4   Port Alfred    -33.59      26.89        92        20.66           0   \n",
       "\n",
       "   Wind Speed  \n",
       "0        8.20  \n",
       "1        7.20  \n",
       "2        2.07  \n",
       "3        3.10  \n",
       "4        5.77  "
      ]
     },
     "execution_count": 11,
     "metadata": {},
     "output_type": "execute_result"
    }
   ],
   "source": [
    "weatherpy_df.head()"
   ]
  },
  {
   "cell_type": "markdown",
   "metadata": {},
   "source": [
    "### Plotting the Data\n",
    "* Use proper labeling of the plots using plot titles (including date of analysis) and axes labels.\n",
    "* Save the plotted figures as .pngs."
   ]
  },
  {
   "cell_type": "markdown",
   "metadata": {},
   "source": [
    "#### Latitude vs. Temperature Plot"
   ]
  },
  {
   "cell_type": "code",
   "execution_count": null,
   "metadata": {},
   "outputs": [],
   "source": []
  },
  {
   "cell_type": "markdown",
   "metadata": {},
   "source": [
    "#### Latitude vs. Humidity Plot"
   ]
  },
  {
   "cell_type": "code",
   "execution_count": null,
   "metadata": {},
   "outputs": [],
   "source": []
  },
  {
   "cell_type": "markdown",
   "metadata": {},
   "source": [
    "#### Latitude vs. Cloudiness Plot"
   ]
  },
  {
   "cell_type": "code",
   "execution_count": null,
   "metadata": {},
   "outputs": [],
   "source": []
  },
  {
   "cell_type": "markdown",
   "metadata": {},
   "source": [
    "#### Latitude vs. Wind Speed Plot"
   ]
  },
  {
   "cell_type": "code",
   "execution_count": null,
   "metadata": {},
   "outputs": [],
   "source": []
  },
  {
   "cell_type": "code",
   "execution_count": null,
   "metadata": {},
   "outputs": [],
   "source": []
  }
 ],
 "metadata": {
  "anaconda-cloud": {},
  "kernel_info": {
   "name": "python3"
  },
  "kernelspec": {
   "display_name": "Python 3",
   "language": "python",
   "name": "python3"
  },
  "language_info": {
   "codemirror_mode": {
    "name": "ipython",
    "version": 3
   },
   "file_extension": ".py",
   "mimetype": "text/x-python",
   "name": "python",
   "nbconvert_exporter": "python",
   "pygments_lexer": "ipython3",
   "version": "3.6.7"
  },
  "nteract": {
   "version": "0.12.3"
  }
 },
 "nbformat": 4,
 "nbformat_minor": 2
}
