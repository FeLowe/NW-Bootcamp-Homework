{
 "cells": [
  {
   "cell_type": "code",
   "execution_count": 2,
   "metadata": {},
   "outputs": [],
   "source": [
    "# Modules\n",
    "import os\n",
    "import csv\n"
   ]
  },
  {
   "cell_type": "code",
   "execution_count": 3,
   "metadata": {},
   "outputs": [
    {
     "name": "stdout",
     "output_type": "stream",
     "text": [
      "52817916345720\n"
     ]
    }
   ],
   "source": [
    "import os\n",
    "import csv\n",
    "\n",
    "# Set path for file\n",
    "file = os.path.join(\"budget_data.csv\")\n",
    "\n",
    "months = []\n",
    "prof_loss = []\n",
    "\n",
    "with open(file) as csvfile:\n",
    "    csv_data = csv.reader(csvfile, delimiter=',')\n",
    "    header_out = next(csv_data, None)\n",
    "\n",
    "    for row in csv_data:\n",
    "        # push each month to months list\n",
    "        months.append(row[0])\n",
    "        # push each value to prof_loss\n",
    "        prof_loss.append(int(row[1]))\n",
    "    #gets len of months, print single count number as it is oulside the loop. \n",
    "    total_months = len(months)"
   ]
  },
  {
   "cell_type": "code",
   "execution_count": null,
   "metadata": {},
   "outputs": [],
   "source": []
  }
 ],
 "metadata": {
  "kernelspec": {
   "display_name": "Python 3",
   "language": "python",
   "name": "python3"
  }
 },
 "nbformat": 4,
 "nbformat_minor": 2
}
